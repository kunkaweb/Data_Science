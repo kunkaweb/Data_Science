{
  "nbformat": 4,
  "nbformat_minor": 0,
  "metadata": {
    "colab": {
      "name": "Diagnóstico de Doenças Cardiovasculares usando Machine Learning.ipynb",
      "provenance": [],
      "authorship_tag": "ABX9TyN4brAnZLGn9rg9QMx5/lqZ"
    },
    "kernelspec": {
      "name": "python3",
      "display_name": "Python 3"
    }
  },
  "cells": [
    {
      "cell_type": "markdown",
      "metadata": {
        "id": "DKMPXJo8lCn5",
        "colab_type": "text"
      },
      "source": [
        "![](https://www.radiocidadejundiai.com.br/wp-content/uploads/2019/08/coracao.jpg)"
      ]
    },
    {
      "cell_type": "markdown",
      "metadata": {
        "id": "IPsyMsFPbpq_",
        "colab_type": "text"
      },
      "source": [
        "---\n",
        "# **DIAGNÓSTICO DE DOENÇAS CARDIOVASCULARES USANDO MACHINE LEARNING**\n",
        "\n",
        "---\n",
        "---\n",
        "\n",
        "Segundo a Organização Mundial da Saúde (OMS), atualmente, mais pessoas morrem anualmente por essas enfermidades do que por qualquer outra causa. Essas doenças são de caráter sistêmico, o que implica no comprometimento de outros órgãos, em função da circulação sanguínea, como fonte de oxigênio e glicose.\n",
        "\n",
        "Diversos fatores de risco estão associados ao desenvolvimento de DCV, os quais podem ser modificáveis ou não modificáveis. Os fatores modificáveis incluem hiperlipidemia, tabagismo, etilismo, obesidade, sedentarismo, má alimentação, etc; já os não modificáveis incluem fatores hereditários, idade, sexo e raça.\n",
        "\n",
        "\n",
        "Desta forma, estima-se que cerca de 90% dessas doenças poderiam ser evitadas realizando pequenas mudanças na dieta e estilo de vida, é possível melhorar a saúde do coração e a qualidade de vida.\n",
        "\n",
        "O que são Doenças Cardiovasculares (DCV)?\n",
        "As doenças do coração são alterações no funcionamento do sistema cardíaco, sendo este responsável por transportar oxigênio e nutrientes necessários às células.\n",
        "\n",
        "De acordo com a OMS, as doenças do coração incluem\n",
        "\n",
        "* Doença coronariana;\n",
        "* Doença cerebrovasculas;\n",
        "* Doença arterial periférica;\n",
        "* Doença cardíaca reumática;\n",
        "* Cardiopatia congênita;\n",
        "* Doença reumática; entre outras.\n",
        "\n",
        "O [Instituto Nacional de Saúde](https://medium.com/r/?url=https%3A%2F%2Fwww.sns.gov.pt%2Fwp-content%2Fuploads%2F2016%2F03%2FDoencasCardiovasculares.pdf) fornece mais detalhes sobre as DCV.\n",
        "\n",
        "**Uso de Machine Learning na Detecção de Doenças Cardiovasculares**\n",
        "\n",
        "Nos dias atuais, a implementação de técnicas computacionais na área da saúde tem se tornado cada vez intensa, com destaque para algoritmos de aprendizado de máquina e redes neurais artificiais. Fazendo-se uso de modelos matemáticos, é possível afirmar ou negar, a partir de conjunto de dados clínicos, o grau de influência de determinados sintomas no desenvolvimento ou aparecimento de doenças.\n",
        "\n",
        "<center><img alt=\"IA\" width=\"20%\" src=\"https://cdn-images-1.medium.com/max/800/1*c3d4Ra2QHVerYdUhyW-S4Q.png\"></center>\n",
        "\n",
        "Existem hoje várias pesquisas na área de Machine Learning visando a construções de modelos preditivos que ajudem os médicos a descobrirem doenças cardiovasculares em seus pacientes.\n",
        "Estudos publicados na revista na revista Nature Biomedical Engineering mostram que algoritmos de Deep Learning foram capazes de antecipar doenças cardíacas em até 5 anos.\n",
        "\n",
        "Recentemente, cientistas da Google, em parceria com a Verily, usaram o Machine Learning para analisar um conjunto de dados de quase 300 mil pacientes, a fim de detectar doenças cardiovasculares analisando a parte de trás dos olhos. O algoritmo conseguiu 70% de acerto ao inferir quais pacientes haviam sofrido acidentes cardiovasculares, taxa essa apenas 2% menor em comparação aos métodos tradicionais que precisam de exames de sangue.\n",
        "\n",
        "Definitivamente, o uso de Inteligência Artificial tem impactado profundamente a área da saúde, e tem proporcionado aos profissionais médicos insumos de inteligência cada vez mais precisos.\n"
      ]
    },
    {
      "cell_type": "markdown",
      "metadata": {
        "id": "V-3P3XYh8TvO",
        "colab_type": "text"
      },
      "source": [
        "## **Proposta deste artigo**\n",
        "\n",
        "O presente artigo realiza análises a partir do conjunto de dados Cleveland Clinic Foundation que encontra-se disponível no Repositório UCI Machine Learning. Inicialmente, é abordada uma **análise exploratória dos dados** e, em seguida, é feita a **implementação de um modelo de Machine Learning** para prever quais pacientes, dentro do dataset, possuem doenças cardiovasculares.\n",
        "É fundamental ressaltar que os dados sigilosos, como nome, documentos pessoais e identidade dos pacientes foram removidos do banco de dados."
      ]
    },
    {
      "cell_type": "markdown",
      "metadata": {
        "id": "nYBGelbt8NMo",
        "colab_type": "text"
      },
      "source": [
        "## **Obtenção do Dados**\n",
        "\n",
        "O conjunto de dados processados contém dados de 303 pessoas e 76 atributos. Contudo, os principais artigos e estudos publicados optaram por usar apenas 14 atributos, considerados de maior relevância. Da mesma maneira, este projeto de Data Science usará essas mesmas 14 variáveis principais.\n",
        "\n",
        "* O arquivo csv com os dados de **303 pessoas** e **14 atributos** pode ser baixado neste [link](https://medium.com/r/?url=https%3A%2F%2Fraw.githubusercontent.com%2Fcarlosfab%2Fcurso_data_science_na_pratica%2Fmaster%2Fmodulo_03%2Fheart-disease-uci.csv).\n",
        "\n",
        "* O arquivo contendo todos os detalhes e documentação do dataset usado neste projeto se encontra neste [link](https://medium.com/r/?url=https%3A%2F%2Fgithub.com%2Fcarlosfab%2Fcurso_data_science_na_pratica%2Fblob%2Fmaster%2Fmodulo_03%2Fheart-disease.names).\n",
        "\n",
        "* Há também um dataset disponibilizado pela [Sociedade Brasileira de Cardiologia](https://medium.com/r/?url=http%3A%2F%2Fwww.cardiometro.com.br%2Fanteriores.asp), que pode ser baixados neste [link](https://medium.com/r/?url=https%3A%2F%2Fraw.githubusercontent.com%2Fcarlosfab%2Fcurso_data_science_na_pratica%2Fmaster%2Fmodulo_03%2Fmortes_doencas_cardiovasculares.csv), que será utilizado para ver a evolução no número de mortes por doenças cardiovasculares no Brasil (entre os anos de 2004–2017).\n",
        "\n",
        "---"
      ]
    },
    {
      "cell_type": "markdown",
      "metadata": {
        "id": "xdtJnAej8pxt",
        "colab_type": "text"
      },
      "source": [
        "Para realizar a análise inicial do conjunto de dados, adotaremos algumas bibliotecas geralmente utilizadas para esta finalidade:\n",
        "\n",
        "* **Pandas** - manipulação de dados;\n",
        "* **NumPy** - compatível com arranjos, vetores e matrizes de N dimensões;\n",
        "* **Matplotlib** e **Seaborn** - criação de gráficos e visualização de dados;"
      ]
    },
    {
      "cell_type": "code",
      "metadata": {
        "id": "1HWFPnMfa3vg",
        "colab_type": "code",
        "colab": {}
      },
      "source": [
        "# IMPORTAÇÃO DAS BIBLIOTECAS NECESSÁRIAS PARA A ANÁLISE EXPLORATÓRIA\n",
        "\n",
        "import pandas as pd\n",
        "import numpy as np\n",
        "import matplotlib.pyplot as plt\n",
        "%matplotlib inline\n",
        "\n",
        "import seaborn as sns\n",
        "sns.set_style()"
      ],
      "execution_count": 2,
      "outputs": []
    },
    {
      "cell_type": "markdown",
      "metadata": {
        "id": "Gnw5kraR_sA6",
        "colab_type": "text"
      },
      "source": [
        "Agora, usando a biblioteca Pandas, poderemos importar e visualizar os conjuntos de dados.\n",
        "\n",
        "Em uma etapa inicial, importaremos os dois *datasets* mencionados no início do *notebook*:\n",
        "\n",
        "* Um contendo os dados relacionados às doenças cardiovasculares (303 pessoas e 14 atributos); e\n",
        "* Um contendo os dados da mortalidade no Brasil por doenças cardiovasculares."
      ]
    },
    {
      "cell_type": "code",
      "metadata": {
        "id": "FoGCN9kU4_-l",
        "colab_type": "code",
        "colab": {}
      },
      "source": [
        "# IMPORTAÇÃO DOS DATASETS PARA ANÁLISE\n",
        "\n",
        "# Dataframes\n",
        "\n",
        "df_uci = pd.read_csv(\"https://raw.githubusercontent.com/carlosfab/curso_data_science_na_pratica/master/modulo_03/heart-disease-uci.csv\")\n",
        "\n",
        "df_brasil = pd.read_csv(\"https://raw.githubusercontent.com/carlosfab/curso_data_science_na_pratica/master/modulo_03/mortes_doencas_cardiovasculares.csv\")"
      ],
      "execution_count": 3,
      "outputs": []
    },
    {
      "cell_type": "code",
      "metadata": {
        "id": "fSOnsNDwA4c7",
        "colab_type": "code",
        "colab": {
          "base_uri": "https://localhost:8080/",
          "height": 204
        },
        "outputId": "45555110-cd38-48af-9048-29587bb0047b"
      },
      "source": [
        "# VISUALIZAÇÃO DAS 5 PRIMEIRAS LINHAS DO CONJUNTO DE DADOS DA 'UCI MACHINE LEARNING'\n",
        "\n",
        "df_uci.head()"
      ],
      "execution_count": 4,
      "outputs": [
        {
          "output_type": "execute_result",
          "data": {
            "text/html": [
              "<div>\n",
              "<style scoped>\n",
              "    .dataframe tbody tr th:only-of-type {\n",
              "        vertical-align: middle;\n",
              "    }\n",
              "\n",
              "    .dataframe tbody tr th {\n",
              "        vertical-align: top;\n",
              "    }\n",
              "\n",
              "    .dataframe thead th {\n",
              "        text-align: right;\n",
              "    }\n",
              "</style>\n",
              "<table border=\"1\" class=\"dataframe\">\n",
              "  <thead>\n",
              "    <tr style=\"text-align: right;\">\n",
              "      <th></th>\n",
              "      <th>age</th>\n",
              "      <th>sex</th>\n",
              "      <th>cp</th>\n",
              "      <th>trestbps</th>\n",
              "      <th>chol</th>\n",
              "      <th>fbs</th>\n",
              "      <th>restecg</th>\n",
              "      <th>thalach</th>\n",
              "      <th>exang</th>\n",
              "      <th>oldpeak</th>\n",
              "      <th>slope</th>\n",
              "      <th>ca</th>\n",
              "      <th>thal</th>\n",
              "      <th>num</th>\n",
              "    </tr>\n",
              "  </thead>\n",
              "  <tbody>\n",
              "    <tr>\n",
              "      <th>0</th>\n",
              "      <td>63.0</td>\n",
              "      <td>1.0</td>\n",
              "      <td>1.0</td>\n",
              "      <td>145.0</td>\n",
              "      <td>233.0</td>\n",
              "      <td>1.0</td>\n",
              "      <td>2.0</td>\n",
              "      <td>150.0</td>\n",
              "      <td>0.0</td>\n",
              "      <td>2.3</td>\n",
              "      <td>3.0</td>\n",
              "      <td>0.0</td>\n",
              "      <td>6.0</td>\n",
              "      <td>0</td>\n",
              "    </tr>\n",
              "    <tr>\n",
              "      <th>1</th>\n",
              "      <td>67.0</td>\n",
              "      <td>1.0</td>\n",
              "      <td>4.0</td>\n",
              "      <td>160.0</td>\n",
              "      <td>286.0</td>\n",
              "      <td>0.0</td>\n",
              "      <td>2.0</td>\n",
              "      <td>108.0</td>\n",
              "      <td>1.0</td>\n",
              "      <td>1.5</td>\n",
              "      <td>2.0</td>\n",
              "      <td>3.0</td>\n",
              "      <td>3.0</td>\n",
              "      <td>2</td>\n",
              "    </tr>\n",
              "    <tr>\n",
              "      <th>2</th>\n",
              "      <td>67.0</td>\n",
              "      <td>1.0</td>\n",
              "      <td>4.0</td>\n",
              "      <td>120.0</td>\n",
              "      <td>229.0</td>\n",
              "      <td>0.0</td>\n",
              "      <td>2.0</td>\n",
              "      <td>129.0</td>\n",
              "      <td>1.0</td>\n",
              "      <td>2.6</td>\n",
              "      <td>2.0</td>\n",
              "      <td>2.0</td>\n",
              "      <td>7.0</td>\n",
              "      <td>1</td>\n",
              "    </tr>\n",
              "    <tr>\n",
              "      <th>3</th>\n",
              "      <td>37.0</td>\n",
              "      <td>1.0</td>\n",
              "      <td>3.0</td>\n",
              "      <td>130.0</td>\n",
              "      <td>250.0</td>\n",
              "      <td>0.0</td>\n",
              "      <td>0.0</td>\n",
              "      <td>187.0</td>\n",
              "      <td>0.0</td>\n",
              "      <td>3.5</td>\n",
              "      <td>3.0</td>\n",
              "      <td>0.0</td>\n",
              "      <td>3.0</td>\n",
              "      <td>0</td>\n",
              "    </tr>\n",
              "    <tr>\n",
              "      <th>4</th>\n",
              "      <td>41.0</td>\n",
              "      <td>0.0</td>\n",
              "      <td>2.0</td>\n",
              "      <td>130.0</td>\n",
              "      <td>204.0</td>\n",
              "      <td>0.0</td>\n",
              "      <td>2.0</td>\n",
              "      <td>172.0</td>\n",
              "      <td>0.0</td>\n",
              "      <td>1.4</td>\n",
              "      <td>1.0</td>\n",
              "      <td>0.0</td>\n",
              "      <td>3.0</td>\n",
              "      <td>0</td>\n",
              "    </tr>\n",
              "  </tbody>\n",
              "</table>\n",
              "</div>"
            ],
            "text/plain": [
              "    age  sex   cp  trestbps   chol  fbs  ...  exang  oldpeak  slope   ca  thal  num\n",
              "0  63.0  1.0  1.0     145.0  233.0  1.0  ...    0.0      2.3    3.0  0.0   6.0    0\n",
              "1  67.0  1.0  4.0     160.0  286.0  0.0  ...    1.0      1.5    2.0  3.0   3.0    2\n",
              "2  67.0  1.0  4.0     120.0  229.0  0.0  ...    1.0      2.6    2.0  2.0   7.0    1\n",
              "3  37.0  1.0  3.0     130.0  250.0  0.0  ...    0.0      3.5    3.0  0.0   3.0    0\n",
              "4  41.0  0.0  2.0     130.0  204.0  0.0  ...    0.0      1.4    1.0  0.0   3.0    0\n",
              "\n",
              "[5 rows x 14 columns]"
            ]
          },
          "metadata": {
            "tags": []
          },
          "execution_count": 4
        }
      ]
    },
    {
      "cell_type": "markdown",
      "metadata": {
        "id": "4sV9HyknCtkF",
        "colab_type": "text"
      },
      "source": [
        "Antes de iniciar a análise dos dados, precisamos compreender o significado de cada variável que compõe o *dataset*. Assim, abaixo, podemos visualizar a lista com a descrição de todos os atributos."
      ]
    },
    {
      "cell_type": "markdown",
      "metadata": {
        "id": "zV0XVjFgDEnn",
        "colab_type": "text"
      },
      "source": [
        "**Informações sobre os atributos:**\n",
        "\n",
        "\n",
        "* `age` - idade em anos\n",
        "* `sex` - sexo do paciente\n",
        "  * 0: mulher\n",
        "  * 1: homem\n",
        "* `cp` - tipo da dor torácica\n",
        "  * 1: angina típica\n",
        "  * 2: angina atípica\n",
        "  * 3: dor não cardíaca\n",
        "  * 4: assintomática\n",
        "* `trestbps` - pressão arterial em repouso\n",
        "* `chol` - colesterol sérico (*mg/dl*)\n",
        "* `fbs` - açucar no sangue em jejum > 120*mg/dl*\n",
        "  * 0: `False`\n",
        "  * 1: `True`\n",
        "* `restecg` - resultado do eletrocardiografia de repouso\n",
        "  * 0: normal\n",
        "  * 1: anormalidades de ST-T  (inversão da onda T e elevação ou depressão de > 0.05*mV*)\n",
        "  * 2: hipertrofia ventricular esquerda provável ou definitiva (pelos critérios de Romhilt-Estes)\n",
        "* `thalach` - frequência cardíaca máxima atingida\n",
        "* `exang` - angina induzida pelo exercício\n",
        "  * 0: não\n",
        "  * 1: sim\n",
        "* `oldpeak` - depessão do segmento ST induzida pelo exercício em relação ao repouso\n",
        "* `slope` - inclinação do segmento ST no pico do exercício\n",
        "* `ca` - número de vasos principais colorido por fluoroscopia\n",
        "* `thal` - *teste de esforço cardíaco*\n",
        "  * 3: normal\n",
        "  * 6: defeito fixo\n",
        "  * 7: defeito reversível\n",
        "* `num` - diagnóstico de doença cardíaca (diagnóstico angiográfico)\n",
        "  * 0: não há doença cardíaca ( < 50% de estreitamento do diâmetro)\n",
        "  * 1,2,3,4: há doença cardíaca ( > 50% de estreitamento do diâmetro)"
      ]
    },
    {
      "cell_type": "markdown",
      "metadata": {
        "id": "GWi7_vPVD-Ph",
        "colab_type": "text"
      },
      "source": [
        "Para as análises realizadas neste projeto, a principal variável de interesse será `num`, uma vez que este atributo nos fornece informações se o paciente possui ou não doenças cardiovasculares.\n",
        "\n",
        "Observando as informações sobre os atributos, percebemos que nossa variável alvo (`num`) possui cinco valores possíveis: \\[0, 1, 2, 3, 4\\].\n",
        "\n",
        "No entanto, seguindo a maioria das pesquisas que utilizaram esse *dataset*, iremos considerar apenas duas situações possíveis:\n",
        "\n",
        "* **0** - não há doença cardíaca\n",
        "* **1** - há doença cardíaca\n",
        "\n",
        "Então, iremos igualar a 1 os valores compreendidos entre 1-4."
      ]
    },
    {
      "cell_type": "code",
      "metadata": {
        "id": "khmVlD1MFDkT",
        "colab_type": "code",
        "colab": {
          "base_uri": "https://localhost:8080/",
          "height": 119
        },
        "outputId": "c090d237-8336-4b26-9bff-51cb10f92df3"
      },
      "source": [
        "# VARIÁVEL ALVO ANTES\n",
        "\n",
        "df_uci.num.value_counts()"
      ],
      "execution_count": 5,
      "outputs": [
        {
          "output_type": "execute_result",
          "data": {
            "text/plain": [
              "0    164\n",
              "1     55\n",
              "2     36\n",
              "3     35\n",
              "4     13\n",
              "Name: num, dtype: int64"
            ]
          },
          "metadata": {
            "tags": []
          },
          "execution_count": 5
        }
      ]
    },
    {
      "cell_type": "markdown",
      "metadata": {
        "id": "uUJq5Eg6FC_t",
        "colab_type": "text"
      },
      "source": [
        "Agora, iremos converter os valores que são maiores ou iguais a 1 para 1."
      ]
    },
    {
      "cell_type": "code",
      "metadata": {
        "id": "XRluumlICO68",
        "colab_type": "code",
        "colab": {}
      },
      "source": [
        "# CONVERTENDO VALORES >= 1 EM 1\n",
        "\n",
        "df_uci.loc[df_uci.num != 0, 'num'] = 1"
      ],
      "execution_count": 6,
      "outputs": []
    },
    {
      "cell_type": "code",
      "metadata": {
        "id": "L2krts6FCcfp",
        "colab_type": "code",
        "colab": {
          "base_uri": "https://localhost:8080/",
          "height": 68
        },
        "outputId": "e849878e-024c-42b5-b829-12ddc445b341"
      },
      "source": [
        "# VARIÁVEL ALVO DEPOIS\n",
        "\n",
        "df_uci.num.value_counts()"
      ],
      "execution_count": 7,
      "outputs": [
        {
          "output_type": "execute_result",
          "data": {
            "text/plain": [
              "0    164\n",
              "1    139\n",
              "Name: num, dtype: int64"
            ]
          },
          "metadata": {
            "tags": []
          },
          "execution_count": 7
        }
      ]
    },
    {
      "cell_type": "markdown",
      "metadata": {
        "id": "ydBXeIGuFwFD",
        "colab_type": "text"
      },
      "source": [
        "A partir dessa mudança nos valores da variável `num` podemos exporar os dados de maneira mais aprofundada."
      ]
    },
    {
      "cell_type": "markdown",
      "metadata": {
        "id": "5jdmj4B8jjCO",
        "colab_type": "text"
      },
      "source": [
        "## **Análise Exploratória**"
      ]
    },
    {
      "cell_type": "markdown",
      "metadata": {
        "id": "1ShmsNuRIH7y",
        "colab_type": "text"
      },
      "source": [
        "**Qual o tamanho do *dataset* e *são* os tipos das variáveis?**\n"
      ]
    },
    {
      "cell_type": "code",
      "metadata": {
        "id": "MBfP6B5yFwda",
        "colab_type": "code",
        "colab": {
          "base_uri": "https://localhost:8080/",
          "height": 51
        },
        "outputId": "56d46276-e11f-4e8f-cb5c-8601b86ec4b5"
      },
      "source": [
        "# TAMANHO DO CONJUNTO DE DADOS\n",
        "\n",
        "print('Linhas: {}'.format(df_uci.shape[0]))\n",
        "print('Colunas: {}'.format(df_uci.shape[1]))\n"
      ],
      "execution_count": 8,
      "outputs": [
        {
          "output_type": "stream",
          "text": [
            "Linhas: 303\n",
            "Colunas: 14\n"
          ],
          "name": "stdout"
        }
      ]
    },
    {
      "cell_type": "code",
      "metadata": {
        "id": "mS7ZaWgKIoTb",
        "colab_type": "code",
        "colab": {
          "base_uri": "https://localhost:8080/",
          "height": 272
        },
        "outputId": "9559b744-760b-40ab-daa5-ffc97dd59390"
      },
      "source": [
        "#  TIPOS DAS VARIÁVEIS\n",
        "\n",
        "df_uci.dtypes"
      ],
      "execution_count": 9,
      "outputs": [
        {
          "output_type": "execute_result",
          "data": {
            "text/plain": [
              "age         float64\n",
              "sex         float64\n",
              "cp          float64\n",
              "trestbps    float64\n",
              "chol        float64\n",
              "fbs         float64\n",
              "restecg     float64\n",
              "thalach     float64\n",
              "exang       float64\n",
              "oldpeak     float64\n",
              "slope       float64\n",
              "ca          float64\n",
              "thal        float64\n",
              "num           int64\n",
              "dtype: object"
            ]
          },
          "metadata": {
            "tags": []
          },
          "execution_count": 9
        }
      ]
    },
    {
      "cell_type": "markdown",
      "metadata": {
        "id": "eaPFLaaFIyuO",
        "colab_type": "text"
      },
      "source": [
        "Podemos observar que o conjunto de dados possui 303 linhas e 14 colunas e é constituído por variáveis do tipo *float* e *int*."
      ]
    },
    {
      "cell_type": "markdown",
      "metadata": {
        "id": "k_rjnxRQJYb4",
        "colab_type": "text"
      },
      "source": [
        "###**Quantos valores \"não há doença cardíaca\" (0) e \"há doença cardíaca\" (1) existem no *dataset*?**"
      ]
    },
    {
      "cell_type": "code",
      "metadata": {
        "id": "x_XlKYFIIvXC",
        "colab_type": "code",
        "colab": {
          "base_uri": "https://localhost:8080/",
          "height": 68
        },
        "outputId": "52dc324b-bd40-4ded-a2fc-f0dc50279d8b"
      },
      "source": [
        "df_uci.num.value_counts()"
      ],
      "execution_count": null,
      "outputs": [
        {
          "output_type": "execute_result",
          "data": {
            "text/plain": [
              "0    164\n",
              "1    139\n",
              "Name: num, dtype: int64"
            ]
          },
          "metadata": {
            "tags": []
          },
          "execution_count": 9
        }
      ]
    },
    {
      "cell_type": "markdown",
      "metadata": {
        "id": "SKvx1-W8JzNm",
        "colab_type": "text"
      },
      "source": [
        "Assim, podemos concluir que existem **139 pacientes** listados no *dataset* possuem doenças cardiovasculares, de um total de 303."
      ]
    },
    {
      "cell_type": "markdown",
      "metadata": {
        "id": "K3l4vBX8khz2",
        "colab_type": "text"
      },
      "source": [
        "###**Do total de pacientes, quais as quantidades de homens e de mulheres?**"
      ]
    },
    {
      "cell_type": "code",
      "metadata": {
        "id": "ylcKfXCkiERc",
        "colab_type": "code",
        "colab": {
          "base_uri": "https://localhost:8080/",
          "height": 369
        },
        "outputId": "6aaddc9e-39e1-4bac-b2e6-a3f56f31139e"
      },
      "source": [
        "fig, ax = plt.subplots(figsize = (7,5))\n",
        "ax = df_uci.sex.value_counts().plot(kind = 'bar', color = 'grey')\n",
        "ax.set_title('Número de Homens e Mulheres', fontsize = 15, loc ='center', weight = 'bold')\n",
        "ax.set_xticklabels(['Homem' , 'Mulher'], rotation = 0)\n",
        "ax.patch.set_facecolor('white')\n",
        "\n",
        "total = []\n",
        "\n",
        "for i in ax.patches:\n",
        "    total.append(i.get_height())\n",
        "\n",
        "soma = sum(total)\n",
        "\n",
        "for i in ax.patches:\n",
        "    ax.text(i.get_x() + .12, i.get_height() - 50,\n",
        "            str(round((i.get_height()/soma)*100, 2)) + '%',\n",
        "            fontsize = 15, color = 'white', weight = 'bold')\n",
        "    \n",
        "plt.tight_layout()"
      ],
      "execution_count": 10,
      "outputs": [
        {
          "output_type": "display_data",
          "data": {
            "image/png": "[encoded data removed]",
            "text/plain": [
              "<Figure size 504x360 with 1 Axes>"
            ]
          },
          "metadata": {
            "tags": [],
            "needs_background": "light"
          }
        }
      ]
    },
    {
      "cell_type": "markdown",
      "metadata": {
        "id": "eNJ1MWZ2MB3X",
        "colab_type": "text"
      },
      "source": [
        "###**O *dataset* possui valores ausentes?**"
      ]
    },
    {
      "cell_type": "code",
      "metadata": {
        "id": "XmGbjqWpJPRi",
        "colab_type": "code",
        "colab": {
          "base_uri": "https://localhost:8080/",
          "height": 272
        },
        "outputId": "f0b76080-5f49-4c7d-df2a-78ba2f12f7da"
      },
      "source": [
        "df_uci.isnull().sum()"
      ],
      "execution_count": 11,
      "outputs": [
        {
          "output_type": "execute_result",
          "data": {
            "text/plain": [
              "age         0\n",
              "sex         0\n",
              "cp          0\n",
              "trestbps    0\n",
              "chol        0\n",
              "fbs         0\n",
              "restecg     0\n",
              "thalach     0\n",
              "exang       0\n",
              "oldpeak     0\n",
              "slope       0\n",
              "ca          0\n",
              "thal        0\n",
              "num         0\n",
              "dtype: int64"
            ]
          },
          "metadata": {
            "tags": []
          },
          "execution_count": 11
        }
      ]
    },
    {
      "cell_type": "markdown",
      "metadata": {
        "id": "MGjC5dPgMf0Z",
        "colab_type": "text"
      },
      "source": [
        "Podemos verificar pelas informações acima, que o *dataset* não possui valores ausentes."
      ]
    },
    {
      "cell_type": "markdown",
      "metadata": {
        "id": "k6hkwjwWCEn6",
        "colab_type": "text"
      },
      "source": [
        "### **Qual a relação entre a idade dos pacientes e o nível de colesterol?**"
      ]
    },
    {
      "cell_type": "code",
      "metadata": {
        "id": "zMYMD2gfnqRS",
        "colab_type": "code",
        "colab": {
          "base_uri": "https://localhost:8080/",
          "height": 369
        },
        "outputId": "af0190aa-9b06-4344-e030-14d142f59e8e"
      },
      "source": [
        "fig, ax = plt.subplots(figsize = (10,5))\n",
        "\n",
        "ax.scatter('age','chol', data = df_uci, linewidth = 2)\n",
        "ax.set_title('Idade vs Colesterol', fontsize = 15, loc ='center', weight = 'bold')\n",
        "ax.set_xlabel('IDADE')\n",
        "ax.set_ylabel('NÍVEL DE COLESTEROL (mg / dL)')\n",
        "\n",
        "plt.tight_layout()"
      ],
      "execution_count": 12,
      "outputs": [
        {
          "output_type": "display_data",
          "data": {
            "image/png": "[encoded data removed]",
            "text/plain": [
              "<Figure size 720x360 with 1 Axes>"
            ]
          },
          "metadata": {
            "tags": [],
            "needs_background": "light"
          }
        }
      ]
    },
    {
      "cell_type": "markdown",
      "metadata": {
        "id": "uEr-oiIH2lg4",
        "colab_type": "text"
      },
      "source": [
        "Apesar de o colesterol ser essencial para os seres humanos, pois ele atua como componente de todas as membranas das nossas células, é fundamental manter o equilíbrio da sua quantidade em nosso corpo. **O nível de colesterol total recomendado é de, no máximo, 200 mg/dL**. E como sabemos, altos níveis de colesterol está relacionado a altos riscos de desenvolvimentos de doenças cardiovasculares.\n",
        "\n",
        "Como podemos observar no gráfico acima, **a maior parte dos pacientes possuem nível de colesterol acima do normal**. Além disso, o gráfico de dispersão nos mostra que quanto maior a idade do paciente, maior seu nível de colesterol, sendo esta, uma relação direta."
      ]
    },
    {
      "cell_type": "code",
      "metadata": {
        "id": "0PU0Dzog5P8G",
        "colab_type": "code",
        "colab": {
          "base_uri": "https://localhost:8080/",
          "height": 297
        },
        "outputId": "5948956d-a855-4838-c1c8-128c1f6d64c0"
      },
      "source": [
        "fig, ax = plt.subplots(figsize=(10,4))\n",
        "ax = df_uci.chol.plot.hist (bins = 15)\n",
        "ax.set_title(\"COLESTEROL\", fontsize = 15, loc = 'center', weight = 'bold')\n",
        "plt.tight_layout();"
      ],
      "execution_count": 13,
      "outputs": [
        {
          "output_type": "display_data",
          "data": {
            "image/png": "[encoded data removed]",
            "text/plain": [
              "<Figure size 720x288 with 1 Axes>"
            ]
          },
          "metadata": {
            "tags": [],
            "needs_background": "light"
          }
        }
      ]
    },
    {
      "cell_type": "markdown",
      "metadata": {
        "id": "Jyuc4Hmm5h19",
        "colab_type": "text"
      },
      "source": [
        "O histograma é fundamental para enterdermos a distribuição de uma determinada variável dentro do conjunto de dados. Através do gráfico acima, podemos observar que a variável colesterol aparece com maior frequência para valores entre 200 e 300 mg/dL. O que significa que a maior parte dos pacientes apresentam nível de colesterol total nessa faixa, o que também pode ser facilmente observado no gráfico de dispersão."
      ]
    },
    {
      "cell_type": "markdown",
      "metadata": {
        "id": "JxadkIA78FuX",
        "colab_type": "text"
      },
      "source": [
        "### **Qual o grau de correlação entre as variáveis do *dataset*?**"
      ]
    },
    {
      "cell_type": "code",
      "metadata": {
        "id": "hZr9EmmV8O6v",
        "colab_type": "code",
        "colab": {
          "base_uri": "https://localhost:8080/",
          "height": 585
        },
        "outputId": "c0dcf562-af91-4157-b9aa-8d3682e1c8af"
      },
      "source": [
        "fig, ax = plt.subplots(figsize = (10,8))\n",
        "ax = sns.heatmap(df_uci.corr() , fmt= '.2g', cmap = 'Purples', annot= True )\n",
        "plt.tight_layout()"
      ],
      "execution_count": 14,
      "outputs": [
        {
          "output_type": "display_data",
          "data": {
            "image/png": "[encoded data removed]",
            "text/plain": [
              "<Figure size 720x576 with 2 Axes>"
            ]
          },
          "metadata": {
            "tags": [],
            "needs_background": "light"
          }
        }
      ]
    },
    {
      "cell_type": "markdown",
      "metadata": {
        "id": "GskbsMhHBxdQ",
        "colab_type": "text"
      },
      "source": [
        "O mapa acima basicamente nos mostra a correlação entre as variáveis, quanto maior o valor, maior é a correlação.\n",
        "\n",
        "Assim, podemos observar que as variáveis com a maior correlação são oldpeak (depessão do segmento ST induzida pelo exercício em relação ao repouso) e slope (inclinação do segmento ST no pico do exercício), com valor de 0,58.\n",
        "Enquanto a menor correlação existente, - 0,42, é entre as variáveis num (diagnóstico de doença cardíaca) e thalach (frequência cardíaca máxima atingida)."
      ]
    },
    {
      "cell_type": "markdown",
      "metadata": {
        "id": "cKqWhYZBMzCd",
        "colab_type": "text"
      },
      "source": [
        "## **Análises semelhantes podem ser feitas para o conjunto de dados do Brasil**"
      ]
    },
    {
      "cell_type": "code",
      "metadata": {
        "id": "ep9aVgEPNcwu",
        "colab_type": "code",
        "colab": {
          "base_uri": "https://localhost:8080/",
          "height": 204
        },
        "outputId": "d6b4e958-4aea-4a03-b494-88336ff19b99"
      },
      "source": [
        "# VISUALIZAÇÃO DO DATASET DF_BRASIL\n",
        "\n",
        "df_brasil.head()"
      ],
      "execution_count": 15,
      "outputs": [
        {
          "output_type": "execute_result",
          "data": {
            "text/html": [
              "<div>\n",
              "<style scoped>\n",
              "    .dataframe tbody tr th:only-of-type {\n",
              "        vertical-align: middle;\n",
              "    }\n",
              "\n",
              "    .dataframe tbody tr th {\n",
              "        vertical-align: top;\n",
              "    }\n",
              "\n",
              "    .dataframe thead th {\n",
              "        text-align: right;\n",
              "    }\n",
              "</style>\n",
              "<table border=\"1\" class=\"dataframe\">\n",
              "  <thead>\n",
              "    <tr style=\"text-align: right;\">\n",
              "      <th></th>\n",
              "      <th>ano</th>\n",
              "      <th>mortes_doencas_cardio</th>\n",
              "    </tr>\n",
              "  </thead>\n",
              "  <tbody>\n",
              "    <tr>\n",
              "      <th>0</th>\n",
              "      <td>2017</td>\n",
              "      <td>383.961</td>\n",
              "    </tr>\n",
              "    <tr>\n",
              "      <th>1</th>\n",
              "      <td>2016</td>\n",
              "      <td>362.091</td>\n",
              "    </tr>\n",
              "    <tr>\n",
              "      <th>2</th>\n",
              "      <td>2015</td>\n",
              "      <td>349.584</td>\n",
              "    </tr>\n",
              "    <tr>\n",
              "      <th>3</th>\n",
              "      <td>2014</td>\n",
              "      <td>340.284</td>\n",
              "    </tr>\n",
              "    <tr>\n",
              "      <th>4</th>\n",
              "      <td>2013</td>\n",
              "      <td>339.672</td>\n",
              "    </tr>\n",
              "  </tbody>\n",
              "</table>\n",
              "</div>"
            ],
            "text/plain": [
              "    ano  mortes_doencas_cardio\n",
              "0  2017                383.961\n",
              "1  2016                362.091\n",
              "2  2015                349.584\n",
              "3  2014                340.284\n",
              "4  2013                339.672"
            ]
          },
          "metadata": {
            "tags": []
          },
          "execution_count": 15
        }
      ]
    },
    {
      "cell_type": "code",
      "metadata": {
        "id": "QRRBY_aMMIoy",
        "colab_type": "code",
        "colab": {
          "base_uri": "https://localhost:8080/",
          "height": 34
        },
        "outputId": "9a102c7a-bdbb-4fcf-8b8e-771a981773f0"
      },
      "source": [
        "# QUAL O TAMANHO DO DATASET DF_BRASIL?\n",
        "\n",
        "print('O dataset df_brasil possui {} linhas e {} colunas'.format(df_brasil.shape[0], df_brasil.shape[1]))"
      ],
      "execution_count": 17,
      "outputs": [
        {
          "output_type": "stream",
          "text": [
            "O dataset df_brasil possui 14 linhas e 2 colunas\n"
          ],
          "name": "stdout"
        }
      ]
    },
    {
      "cell_type": "code",
      "metadata": {
        "id": "ot1yjY_0ODcu",
        "colab_type": "code",
        "colab": {
          "base_uri": "https://localhost:8080/",
          "height": 68
        },
        "outputId": "d7427629-8c25-41b0-fe59-f3eb1701c6d3"
      },
      "source": [
        "# QUAIS OS TIPOS DE VARIÁVEIS?\n",
        "\n",
        "df_brasil.dtypes"
      ],
      "execution_count": 18,
      "outputs": [
        {
          "output_type": "execute_result",
          "data": {
            "text/plain": [
              "ano                        int64\n",
              "mortes_doencas_cardio    float64\n",
              "dtype: object"
            ]
          },
          "metadata": {
            "tags": []
          },
          "execution_count": 18
        }
      ]
    },
    {
      "cell_type": "code",
      "metadata": {
        "id": "mGEQLZDCNXms",
        "colab_type": "code",
        "colab": {
          "base_uri": "https://localhost:8080/",
          "height": 68
        },
        "outputId": "e183145c-3efd-4eef-d214-51cf9ee9bfb6"
      },
      "source": [
        "# O DATASET POSSUI VALORES AUSENTES?\n",
        "\n",
        "df_brasil.isnull().sum()"
      ],
      "execution_count": 19,
      "outputs": [
        {
          "output_type": "execute_result",
          "data": {
            "text/plain": [
              "ano                      0\n",
              "mortes_doencas_cardio    0\n",
              "dtype: int64"
            ]
          },
          "metadata": {
            "tags": []
          },
          "execution_count": 19
        }
      ]
    },
    {
      "cell_type": "markdown",
      "metadata": {
        "id": "fJBezxZqpcFW",
        "colab_type": "text"
      },
      "source": [
        "### **Há quantas mortes por doenças cardiovasculares no Brasil?**"
      ]
    },
    {
      "cell_type": "code",
      "metadata": {
        "id": "Cx6j9q7kN_bN",
        "colab_type": "code",
        "colab": {
          "base_uri": "https://localhost:8080/",
          "height": 369
        },
        "outputId": "40f45527-fbaa-4ea8-a464-c012a92532f6"
      },
      "source": [
        "fig, ax = plt.subplots(figsize = (10,5))\n",
        "\n",
        "ax.plot('ano','mortes_doencas_cardio', data = df_brasil, linewidth = 5, markersize = 10, color = 'red')\n",
        "ax.set_title('Mortes por Doenças Cardiovasculares no Brasil', fontsize = 15, loc ='center', weight = 'bold')\n",
        "ax.set_xlabel('ANO')\n",
        "ax.set_ylabel('N° de Mortes (mil)')\n",
        "\n",
        "plt.tight_layout()"
      ],
      "execution_count": 20,
      "outputs": [
        {
          "output_type": "display_data",
          "data": {
            "image/png": "[encoded data removed]",
            "text/plain": [
              "<Figure size 720x360 with 1 Axes>"
            ]
          },
          "metadata": {
            "tags": [],
            "needs_background": "light"
          }
        }
      ]
    },
    {
      "cell_type": "markdown",
      "metadata": {
        "id": "Er_y4eSItCMY",
        "colab_type": "text"
      },
      "source": [
        "Como podemos observar através do gráfico acima, as análises dos dados entre os ano de 2004 e 2017 confirmam que há um aumento progressivo no número de mortes por doenças do coração no Brasil, reforçando as preocupações do Ministério da Saúde a respeito dessas doenças, com 2017 atingindo um pouco mais de 380 mil mortes."
      ]
    },
    {
      "cell_type": "markdown",
      "metadata": {
        "id": "C7DRZyKuYdy1",
        "colab_type": "text"
      },
      "source": [
        "### **Conclusões - Análise Exploratória**\n",
        "\n",
        "Apesar de todos os esforços das organizações de saúde para reduzir o índice de doenças do coração ao redor do mundo, os números ainda são bastante preocupantes.\n",
        "\n",
        "Pudemos observar que, como esperado, existem fortes correlaçoes entre algumas variáveis, como por exemplo, a relação entre a frequência máxima de batimentos e a ocorrência de doença. Outro fator que está diretamente relacionado com a maior parte dos pacientes é o alto nível de colesterol, onde este contribui diretamente para o desenvolvimento de doenças cardiovasculares.\n",
        "\n",
        "Entre os anos de 2004 e 2017, percebemos que o número de casos no Brasil subiu ao longo do tempo, o que reforça a importância da adoção de práticas saudáveis por parte dos brasileiros.\n",
        "\n",
        "Também podemos entender a importância das análises de dados no processo de compreensão do comportamento das doenças cardiovasculares ao redor do mundo, permitindo a criação de estratégias para a intensificação das pesquisas sobre doenças cardiovasculares e de programas de prevenção.\n",
        "\n",
        "Análises mais profundas, usando modelos de aprendizado de máquina, podem a partir de características dos indivíduos, calcular a probabilidade de determinados pacientes possuírem ou desenvolverem doenças cardiovasculares, inclusive auxiliando médicos em diagnósticos mais precisos.\n",
        "\n",
        "---"
      ]
    },
    {
      "cell_type": "markdown",
      "metadata": {
        "id": "GXDpyZc80Y9K",
        "colab_type": "text"
      },
      "source": [
        "# **Aplicação do modelo de Machine Learning**\n",
        "\n",
        "Nesta etapa do projeto, implementaremos um modelo de Machine Learning para prever os casos em que um determinado paciente possui doença cardiovascular ou não. Assim, é necessário que o modelo de Machine Learning dê uma classificação ao ser alimentado com diversas variáveis independentes (*features*).\n",
        "\n",
        "Para a criação do modelo de Machine Learning, utilizaremos a biblioteca ***Scikit-Learn***, que possui vários algoritmos de classificação, regressão e agrupamento incluindo máquinas de vetores de suporte, florestas aleatórias, gradient boosting, k-means e DBSCAN, e é projetada para interagir com as bibliotecas Python numéricas e científicas NumPy e SciPy.\n",
        "\n",
        "<center><img alt=\"Analisando Airbnb\" width=\"15%\" src=\"https://avatars2.githubusercontent.com/u/365630?v=2&s=400\"></center>\n",
        "\n",
        "Você pode conferir os detalhes sobre o *Scikit-Learn* acessando este [link](https://scikit-learn.org/stable/)."
      ]
    },
    {
      "cell_type": "markdown",
      "metadata": {
        "id": "BsvnVGzixU5L",
        "colab_type": "text"
      },
      "source": [
        "### **Preparação dos Dados**\n",
        "\n",
        "**Nesta etapa do projeto serão utilizados os dados do *dataset* df_uci**\n",
        "\n",
        "Em todos os projetos de Machine Learning a etapa de pré-processamento de dados é fundamental. Aplicando as técnicas corretas para preparação dos dados, podemos aumentar consideravelmente o desempenho dos modelos implementados.\n",
        "\n",
        "Para alimentar o modelo de Machine Learning, é necessário separar a variável alvo (dependente) do *dataset* das demais (independentes).\n",
        "\n",
        "Geralmente, as variáveis são divididas como X e y, este projeto vai adotar o mesmo padrão.\n",
        "\n",
        "Após separar nossas variáveis devidamente, como parte do pré-processamento dos dados, que irão alimentar o modelo de Machine Learning, será usado o **StardardScaler**, que vem junto com **sklearn.preprocessing**, para padronizar nossos dados numéricos."
      ]
    },
    {
      "cell_type": "code",
      "metadata": {
        "id": "7S6a2h7gxcxn",
        "colab_type": "code",
        "colab": {}
      },
      "source": [
        "# IMPORTAÇÃO DAS FERRAMENTAS PARA O PRÉ-PROCESSAMENTO DOS DADOS\n",
        "\n",
        "from sklearn.preprocessing import StandardScaler"
      ],
      "execution_count": 21,
      "outputs": []
    },
    {
      "cell_type": "code",
      "metadata": {
        "id": "dBLDl0K52ksw",
        "colab_type": "code",
        "colab": {}
      },
      "source": [
        "# SEPARAÇÃO DAS VARIÁEIS\n",
        "\n",
        "X = df_uci.drop('num', axis = 1)\n",
        "y = df_uci.num"
      ],
      "execution_count": 22,
      "outputs": []
    },
    {
      "cell_type": "code",
      "metadata": {
        "id": "YWyDj-b25dza",
        "colab_type": "code",
        "colab": {}
      },
      "source": [
        "# PADRONIZAÇÃO DOS DADOS NUMÉRICOS\n",
        "\n",
        "X = StandardScaler().fit_transform(X)"
      ],
      "execution_count": 23,
      "outputs": []
    },
    {
      "cell_type": "markdown",
      "metadata": {
        "id": "jNuwqxuu5VY2",
        "colab_type": "text"
      },
      "source": [
        "Por fim, antes de implementar o modelo, iremos dividir o nosso *dataset* em dados de treino e de teste.\n",
        "\n",
        "Essa etapa também é fundamental, uma vez que ela evita que o modelo possa fazer previsões erradas ao \"viciar\", em palavras simples, o modelo com um determinado conjunto de dados. Ou seja, quando nós usamos os mesmos dados para treinar e testar nossos modelos, é provável que ele não aprenda a classificar os dados, mas apenas \"decorar\" as respostas. Assim, ao submetir esse modelo para novos dados, ele não vai conseguir uma boa acurácia.\n",
        "\n",
        "Por isso, é fundamental usar dados diferentes para treino e teste."
      ]
    },
    {
      "cell_type": "code",
      "metadata": {
        "id": "GpR5wgx87KvF",
        "colab_type": "code",
        "colab": {}
      },
      "source": [
        "# DIVISÃO DOS DADOS EM TREINO E TESTE\n",
        "\n",
        "from sklearn.model_selection import train_test_split\n",
        "\n",
        "X_train, X_test, y_train, y_test = train_test_split(X, y, test_size = 0.28)"
      ],
      "execution_count": 24,
      "outputs": []
    },
    {
      "cell_type": "markdown",
      "metadata": {
        "id": "jdgiAZbLxdOH",
        "colab_type": "text"
      },
      "source": [
        "### **Modelo Random Forest**\n",
        "\n",
        "Random Forest (floresta aleatória) é um algoritmo de aprendizagem supervisionada. Como você pode perceber pelo seu nome, ele cria uma floresta de um modo aleatório.\n",
        "\n",
        "Segundo Niklas Donges, em um artigo do Towards Data Science, de modo simples: o algoritmo de florestas aleatórias cria várias árvores de decisão e as combina para obter uma predição com maior acurácia e mais estável.\n",
        "\n",
        "<center><img alt = \"Analisando Airbnb\" width = \"15%\" src=\"https://static.thenounproject.com/png/961660-200.png\"></center>\n",
        "\n",
        "Uma grande vantagem do algoritmo de florestas aleatórias é que ele pode ser utilizado tanto para tarefas de classificação quanto para regressão, o que representa a maioria dos sistemas de aprendizagem de máquina atuais.\n",
        "\n",
        "Você pode conferir um artigo completo do **Towards Data Science** sobre o modelo Random Forest clicando [aqui](https://towardsdatascience.com/understanding-random-forest-58381e0602d2)."
      ]
    },
    {
      "cell_type": "code",
      "metadata": {
        "id": "tpLSvxI2xgJn",
        "colab_type": "code",
        "colab": {}
      },
      "source": [
        "# IMPORTANDO O MODELO RANDOM FOREST\n",
        "\n",
        "from sklearn.ensemble import RandomForestClassifier"
      ],
      "execution_count": 25,
      "outputs": []
    },
    {
      "cell_type": "code",
      "metadata": {
        "id": "2qJUVp_IBge5",
        "colab_type": "code",
        "colab": {}
      },
      "source": [
        "# INSTANCIANDO O MODELO\n",
        "\n",
        "RF_model = RandomForestClassifier(n_estimators = 10, criterion = 'entropy', random_state = 42)"
      ],
      "execution_count": 26,
      "outputs": []
    },
    {
      "cell_type": "code",
      "metadata": {
        "id": "omxn82InB2Z8",
        "colab_type": "code",
        "colab": {
          "base_uri": "https://localhost:8080/",
          "height": 153
        },
        "outputId": "7ec41ac8-5a6f-48c7-90dc-6992e34651c3"
      },
      "source": [
        "# TREINANDO O MODELO\n",
        "\n",
        "RF_model.fit(X_train, y_train)"
      ],
      "execution_count": 27,
      "outputs": [
        {
          "output_type": "execute_result",
          "data": {
            "text/plain": [
              "RandomForestClassifier(bootstrap=True, ccp_alpha=0.0, class_weight=None,\n",
              "                       criterion='entropy', max_depth=None, max_features='auto',\n",
              "                       max_leaf_nodes=None, max_samples=None,\n",
              "                       min_impurity_decrease=0.0, min_impurity_split=None,\n",
              "                       min_samples_leaf=1, min_samples_split=2,\n",
              "                       min_weight_fraction_leaf=0.0, n_estimators=10,\n",
              "                       n_jobs=None, oob_score=False, random_state=42, verbose=0,\n",
              "                       warm_start=False)"
            ]
          },
          "metadata": {
            "tags": []
          },
          "execution_count": 27
        }
      ]
    },
    {
      "cell_type": "markdown",
      "metadata": {
        "id": "JQfT7miiDw19",
        "colab_type": "text"
      },
      "source": [
        "### **Verificando o desempenho do modelo**\n",
        "\n",
        "Uma das principais métricas utilizadas para avaliar o desempenho de um modelo de Machine Learning é a acurácia. Contudo, é importante ressaltar que cada caso é particular, com isso, uma boa acurácia nem sempre garantirá que o modelo está bom.\n",
        "\n",
        "No caso da detecção de doenças cardiovasculares, o interesse é maximizar o número de verdadeiros positivos e minimizar o número de verdadeiros positivos e minimizar o número de falsos negativos, apesar de ser uma tarefa difícil de realizar.\n",
        "\n",
        "Neste projeto, além da métrica de acurácia será utilizada a função classification_report para ver ver o desempenho do modelo sobre as métricas de precisão, ***recall, f1-score e support***."
      ]
    },
    {
      "cell_type": "code",
      "metadata": {
        "id": "P0lFF5uYB_lg",
        "colab_type": "code",
        "colab": {}
      },
      "source": [
        "# IMPORTAÇÃO DAS FERRAMENTAS DE MÉTRICAS\n",
        "\n",
        "from sklearn.metrics import classification_report\n",
        "from sklearn.metrics import accuracy_score\n",
        "from sklearn.metrics import confusion_matrix"
      ],
      "execution_count": 28,
      "outputs": []
    },
    {
      "cell_type": "code",
      "metadata": {
        "id": "ziaJFnJdUpiz",
        "colab_type": "code",
        "colab": {}
      },
      "source": [
        "# REALIZANDO A PREVISÃO NOS DADOS DE TESTE\n",
        "\n",
        "y_pred = RF_model.predict(X_test)"
      ],
      "execution_count": 29,
      "outputs": []
    },
    {
      "cell_type": "code",
      "metadata": {
        "id": "5i8ydeTOU7Cv",
        "colab_type": "code",
        "colab": {
          "base_uri": "https://localhost:8080/",
          "height": 34
        },
        "outputId": "f209bc37-5faf-401f-893b-1175bf43669d"
      },
      "source": [
        "# VIZUALIZANDO A ACURÁCIA GERAL\n",
        "\n",
        "print('[Acurácia] Random Forest:', accuracy_score(y_test, y_pred))"
      ],
      "execution_count": 30,
      "outputs": [
        {
          "output_type": "stream",
          "text": [
            "[Acurácia] Random Forest: 0.8352941176470589\n"
          ],
          "name": "stdout"
        }
      ]
    },
    {
      "cell_type": "code",
      "metadata": {
        "id": "tAbNXqLCVH9i",
        "colab_type": "code",
        "colab": {
          "base_uri": "https://localhost:8080/",
          "height": 204
        },
        "outputId": "705adeee-0a3d-43ab-efc3-a6206cd8d98d"
      },
      "source": [
        "# VISUALIZANDO O CLASSIFICATION REPORT\n",
        "\n",
        "print('\\n[Classification Report] Random Forest')\n",
        "\n",
        "print(classification_report(y_test, y_pred))"
      ],
      "execution_count": 31,
      "outputs": [
        {
          "output_type": "stream",
          "text": [
            "\n",
            "[Classification Report] Random Forest\n",
            "              precision    recall  f1-score   support\n",
            "\n",
            "           0       0.83      0.83      0.83        42\n",
            "           1       0.84      0.84      0.84        43\n",
            "\n",
            "    accuracy                           0.84        85\n",
            "   macro avg       0.84      0.84      0.84        85\n",
            "weighted avg       0.84      0.84      0.84        85\n",
            "\n"
          ],
          "name": "stdout"
        }
      ]
    },
    {
      "cell_type": "markdown",
      "metadata": {
        "id": "QMnGGf06VuzO",
        "colab_type": "text"
      },
      "source": [
        "**Descrição das métricas**\n",
        "\n",
        "* **Precision** - Precisão de previsões positivas..\n",
        "* **Reacall** - Fração de positivos que foram identificados corretamente.\n",
        "* **f1-score** - representa a média harmonica entre precision e recall, sendo 0 o pior valor e 1 o melhor."
      ]
    },
    {
      "cell_type": "markdown",
      "metadata": {
        "id": "LmN_vKjfW0SK",
        "colab_type": "text"
      },
      "source": [
        "Aparentemente, o modelo apresenta bons resultados nas métricas avaliadas. Contudo, como citado anteriormente, isso não pode garantir totalmente que o modelo seja bom.\n",
        "\n",
        "Para complementar a nossa análise de desempenho, é interessante visualizar a **matriz de confusão**\n",
        "\n",
        "<center><img alt = \"Analisando Airbnb\" width = \"50%\" src=\"https://miro.medium.com/max/938/1*s7VB26Cfo1LdVZcLou-e0g.png\"></center>\n",
        "\n",
        "* **VP** - Se o paciente tiver doença cardíaca e o modelo prever que possui.\n",
        "* **FP** - Se o paciente não tiver doença cardíaca e o modelo prever que possui.\n",
        "* **FN** - Se o paciente tiver doença cardíaca e o modelo prever que não.\n",
        "* **VN** - Se o paciente não tiver doença cardíaca e o modelo prever que não."
      ]
    },
    {
      "cell_type": "code",
      "metadata": {
        "id": "8pBZwJe5VuIv",
        "colab_type": "code",
        "colab": {
          "base_uri": "https://localhost:8080/",
          "height": 111
        },
        "outputId": "debbbf6d-7ffd-4cc7-f051-dfa62151be80"
      },
      "source": [
        "# VISUALIZANDO A MATRIZ DE CONFUSÃO\n",
        "\n",
        "pd.DataFrame(confusion_matrix(y_test, y_pred),\n",
        "             index=['neg', 'pos'], columns=['pred_neg', 'pred_pos'])"
      ],
      "execution_count": 32,
      "outputs": [
        {
          "output_type": "execute_result",
          "data": {
            "text/html": [
              "<div>\n",
              "<style scoped>\n",
              "    .dataframe tbody tr th:only-of-type {\n",
              "        vertical-align: middle;\n",
              "    }\n",
              "\n",
              "    .dataframe tbody tr th {\n",
              "        vertical-align: top;\n",
              "    }\n",
              "\n",
              "    .dataframe thead th {\n",
              "        text-align: right;\n",
              "    }\n",
              "</style>\n",
              "<table border=\"1\" class=\"dataframe\">\n",
              "  <thead>\n",
              "    <tr style=\"text-align: right;\">\n",
              "      <th></th>\n",
              "      <th>pred_neg</th>\n",
              "      <th>pred_pos</th>\n",
              "    </tr>\n",
              "  </thead>\n",
              "  <tbody>\n",
              "    <tr>\n",
              "      <th>neg</th>\n",
              "      <td>35</td>\n",
              "      <td>7</td>\n",
              "    </tr>\n",
              "    <tr>\n",
              "      <th>pos</th>\n",
              "      <td>7</td>\n",
              "      <td>36</td>\n",
              "    </tr>\n",
              "  </tbody>\n",
              "</table>\n",
              "</div>"
            ],
            "text/plain": [
              "     pred_neg  pred_pos\n",
              "neg        35         7\n",
              "pos         7        36"
            ]
          },
          "metadata": {
            "tags": []
          },
          "execution_count": 32
        }
      ]
    },
    {
      "cell_type": "markdown",
      "metadata": {
        "id": "1FwQs-n_a-sk",
        "colab_type": "text"
      },
      "source": [
        "A matriz de confusão funciona da seguinte maneira:\n",
        "\n",
        "Nas linhas constam os casos reais e nas colunas, as previsões feitas pelo modelo.\n",
        "\n",
        "Por exemplo, existem 35 casos realmente negativos e o modelo previu corretamente. Contudo, em 7 casos também negativos, ele previu como positivo."
      ]
    },
    {
      "cell_type": "markdown",
      "metadata": {
        "id": "4TPPVanMYP51",
        "colab_type": "text"
      },
      "source": [
        "### **Conclusões - Modelo de Machine Learning**\n",
        "\n",
        "Esse exemplo de implementação de modelos de aprendizado de máquina confirma a importância do uso dessas ferramentas no diagnóstico e compreensão das doenças cardiovasculares.\n",
        "\n",
        "Em particular, o modelo desenvolvido neste projeto conseguiu uma **acurácia de 84%**, ou seja, a cada 10 pacientes, o modelo conseguiu prever pelo menos 8 casos corretamente.\n",
        "\n",
        "É importante ressaltar que diversas outras técnicas podem ser implementadas a fim de melhorar o desempenho do modelo, a partir de melhorias no pré-processamento de dados e escolha de outros métodos de machine learning. A ampliação do conjunto de dados também é fundamental para a melhoria do modelo, uma vez que no presente projeto foi utilizado um conjunto de dados relativamente pequeno, o que dificulta a implementação do modelo."
      ]
    }
  ]
}
